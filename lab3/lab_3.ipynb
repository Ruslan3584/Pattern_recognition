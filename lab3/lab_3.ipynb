{
 "cells": [
  {
   "cell_type": "code",
   "execution_count": 6,
   "metadata": {
    "colab": {},
    "colab_type": "code",
    "id": "iKL4ba2utL_x"
   },
   "outputs": [],
   "source": [
    "import numpy as np\n",
    "import functools\n",
    "from tests import * # імпортуємо тести для функцій"
   ]
  },
  {
   "cell_type": "markdown",
   "metadata": {
    "colab_type": "text",
    "id": "GYnrJ2HhtL_2"
   },
   "source": [
    "## Еталони"
   ]
  },
  {
   "cell_type": "code",
   "execution_count": 7,
   "metadata": {
    "colab": {},
    "colab_type": "code",
    "id": "mn1nw_9ttL_3"
   },
   "outputs": [],
   "source": [
    "zero = np.array([[1, 1, 1],\n",
    "                 [1, 0, 1],\n",
    "                 [1, 0, 1],\n",
    "                 [1, 0, 1],\n",
    "                 [1, 1, 1]])\n",
    "\n",
    "one  = np.array([[0, 1, 0],\n",
    "                 [0, 1, 0],\n",
    "                 [0, 1, 0],\n",
    "                 [0, 1, 0],\n",
    "                 [0, 1, 0]])\n",
    "\n",
    "two  = np.array([[1, 1, 1],\n",
    "                 [0, 0, 1],\n",
    "                 [1, 1, 1],\n",
    "                 [1, 0, 0],\n",
    "                 [1, 1, 1]])\n",
    "\n",
    "three =np.array([[1, 1, 1],\n",
    "                 [0, 0, 1],\n",
    "                 [1, 1, 1],\n",
    "                 [0, 0, 1],\n",
    "                 [1, 1, 1]])\n",
    "\n",
    "four = np.array([[1, 0, 1],\n",
    "                 [1, 0, 1],\n",
    "                 [1, 1, 1],\n",
    "                 [0, 0, 1],\n",
    "                 [0, 0, 1]])\n",
    "\n",
    "five = np.array([[1, 1, 1],\n",
    "                 [1, 0, 0],\n",
    "                 [1, 1, 1],\n",
    "                 [0, 0, 1],\n",
    "                 [1, 1, 1]])\n",
    "\n",
    "six =  np.array([[1, 1, 1],\n",
    "                 [1, 0, 0],\n",
    "                 [1, 1, 1],\n",
    "                 [1, 0, 1],\n",
    "                 [1, 1, 1]])\n",
    "\n",
    "seven =np.array([[1, 1, 1],\n",
    "                 [0, 0, 1],\n",
    "                 [0, 1, 0],\n",
    "                 [1, 0, 0],\n",
    "                 [1, 0, 0]])\n",
    "\n",
    "eight =np.array([[1, 1, 1],\n",
    "                 [1, 0, 1],\n",
    "                 [1, 1, 1],\n",
    "                 [1, 0, 1],\n",
    "                 [1, 1, 1]])\n",
    "\n",
    "\n",
    "nine = np.array([[1, 1, 1],\n",
    "                 [1, 0, 1],\n",
    "                 [1, 1, 1],\n",
    "                 [0, 0, 1],\n",
    "                 [0, 0, 1]])"
   ]
  },
  {
   "cell_type": "code",
   "execution_count": 8,
   "metadata": {
    "colab": {},
    "colab_type": "code",
    "id": "qq1FhfLitL_5"
   },
   "outputs": [],
   "source": [
    "Y1 = [zero, one, two, three, four, five, six, seven, eight, nine] # еталонні зображення\n",
    "Y=[]"
   ]
  },
  {
   "cell_type": "code",
   "execution_count": 9,
   "metadata": {
    "colab": {},
    "colab_type": "code",
    "id": "Ix5KTsswtL_-"
   },
   "outputs": [],
   "source": [
    "sc1 = 20    # наскільки збільшуємо висоту\n",
    "sc2 = 33   # ... ширину\n",
    "for i in range(len(Y1)):\n",
    "    Y.append(upscale(Y1[i], sc1,sc2))"
   ]
  },
  {
   "cell_type": "markdown",
   "metadata": {
    "colab_type": "text",
    "id": "_T4nvSNitMAE"
   },
   "source": [
    "## Генеруємо гістограми"
   ]
  },
  {
   "cell_type": "code",
   "execution_count": 12,
   "metadata": {
    "colab": {
     "base_uri": "https://localhost:8080/",
     "height": 51
    },
    "colab_type": "code",
    "id": "K1fWYCjktMAF",
    "outputId": "c6f4220f-2c66-4864-cafa-69ef78494c14"
   },
   "outputs": [
    {
     "data": {
      "text/plain": [
       "array([0.2       , 0.072     , 0.016     , 0.00533333, 0.008     ,\n",
       "       0.17866667, 0.20266667, 0.128     , 0.05866667, 0.13066667])"
      ]
     },
     "execution_count": 12,
     "metadata": {},
     "output_type": "execute_result"
    }
   ],
   "source": [
    "histogram = set_histogram(np.random.randint(0,100))\n",
    "histogram"
   ]
  },
  {
   "cell_type": "markdown",
   "metadata": {
    "colab_type": "text",
    "id": "7c_n9qqRtMAK"
   },
   "source": [
    "## Генеруємо вхідне зображення\n",
    "### повертаємо зобр. і суму цифр"
   ]
  },
  {
   "cell_type": "code",
   "execution_count": 13,
   "metadata": {
    "colab": {},
    "colab_type": "code",
    "id": "9BioXkBDtMAL"
   },
   "outputs": [],
   "source": [
    "def task(Y, t, p):# генеруємо таск довжиною t з ймовірністю p\n",
    "    r = np.random.choice(10, t, p=histogram)\n",
    "    x_etalone = Y[r[0]]\n",
    "    for i in range(1,t):\n",
    "        x_etalone = np.concatenate((x_etalone,Y[r[i]]),axis=1)\n",
    "    n = Y[0].shape[0]\n",
    "    m = Y[0].shape[1]\n",
    "    print(sum(r))\n",
    "    ksi = np.random.binomial(size=n*m*t, n=1, p=p).reshape((n,m*t))\n",
    "    f = (x_etalone^ksi, sum(r)) \n",
    "    return f # повертаємо таск і суму чисел (ті що випали)"
   ]
  },
  {
   "cell_type": "markdown",
   "metadata": {
    "colab_type": "text",
    "id": "EaPZcjGWtMAT"
   },
   "source": [
    "## Рахуємо ймовірності"
   ]
  },
  {
   "cell_type": "code",
   "execution_count": 14,
   "metadata": {
    "colab": {},
    "colab_type": "code",
    "id": "Booev4pftMAW"
   },
   "outputs": [],
   "source": [
    "def recog(X_arr,p):\n",
    "    probab= []                      # остаточні ймовірності\n",
    "    for ks in range(10):           # зовнішня сума по к штрих\n",
    "        sum_ki = np.empty(10)       # для суми в знаменнику\n",
    "        for ki in range(10):           # для суми в знаменнику\n",
    "            stepin = np.sum((Y[ki]^X_arr) - (Y[ks]^X_arr))    # степінь в знаменнику для p/1-p\n",
    "            #print(stepin)\n",
    "            qwerty = np.power(p/(1-p), stepin)               # кусок\n",
    "            #print((Y[ki]^X_arr).sum() , (Y[ks]^X_arr).sum())\n",
    "            sum_ki[ki] = histogram[ki]*qwerty                # додаємо в суму \n",
    "            #print(stepin,sum_ki[ki] )\n",
    "        znam = np.sum(sum_ki)                             # рахуємо знаменник остаточно\n",
    "        #print(znam)\n",
    "        r = histogram[ks]/znam                            # чисельник/знаменник\n",
    "        probab.append(r)                             # додаємо ймовірність\n",
    "    return probab                                         # повертаємо масив"
   ]
  },
  {
   "cell_type": "code",
   "execution_count": null,
   "metadata": {},
   "outputs": [],
   "source": []
  },
  {
   "cell_type": "markdown",
   "metadata": {
    "colab_type": "text",
    "id": "e99mn6idtMAZ"
   },
   "source": [
    "## Рекурсивно рахуємо ймов-ті для під-зображень"
   ]
  },
  {
   "cell_type": "code",
   "execution_count": 15,
   "metadata": {
    "colab": {
     "base_uri": "https://localhost:8080/",
     "height": 85
    },
    "colab_type": "code",
    "id": "6Pa6SbE7w0tO",
    "outputId": "2be6eddf-3d5d-4d3f-f5c1-160633db1713"
   },
   "outputs": [
    {
     "name": "stdout",
     "output_type": "stream",
     "text": [
      "86\n"
     ]
    }
   ],
   "source": [
    "t = 20                   # кількість цифр\n",
    "p = 0.3                  # рівень шуму \n",
    "v = task(Y, t,p)[0]       # генеруємо таск\n",
    "X = np.hsplit(v, t)     #розбиваємо таск по цифрах \n",
    "#recog(X[0],p)        "
   ]
  },
  {
   "cell_type": "code",
   "execution_count": 16,
   "metadata": {
    "colab": {},
    "colab_type": "code",
    "id": "GsrEMxi2tMAa"
   },
   "outputs": [],
   "source": [
    "@functools.lru_cache(None)        # та ж функція що була раніше але з новими підрахунками\n",
    "def f(t):\n",
    "    if t==1:\n",
    "        return recog(X[t-1],p)    # умова виходу з рекурсії\n",
    "    else:\n",
    "        res = []                  # масив в якому будуть остаточні ймовірності\n",
    "        for d in range(0,9*t+1):  \n",
    "            k2 = []\n",
    "            for k in range (0,10):\n",
    "                if k>=d-9*(t-1) and k<=d:          \n",
    "                    ert = recog(X[t-1], p)   # p(Kt|Xt)\n",
    "                    k2.append( f(t-1)[d-k]*ert[k]) # рахуємо рекурсивно \n",
    "            res.append(np.sum(k2)) \n",
    "      #print(np.sum(k2))\n",
    "    return res"
   ]
  },
  {
   "cell_type": "code",
   "execution_count": 17,
   "metadata": {
    "colab": {
     "base_uri": "https://localhost:8080/",
     "height": 85
    },
    "colab_type": "code",
    "id": "NSv88auCtMAc",
    "outputId": "ba06b3bd-797f-4aa7-d041-1e01a94cbf26"
   },
   "outputs": [
    {
     "name": "stderr",
     "output_type": "stream",
     "text": [
      "C:\\Users\\max\\Anaconda3\\lib\\site-packages\\ipykernel_launcher.py:8: RuntimeWarning: overflow encountered in power\n",
      "  \n"
     ]
    },
    {
     "name": "stdout",
     "output_type": "stream",
     "text": [
      "86\n"
     ]
    }
   ],
   "source": [
    "a = f(t)\n",
    "\n",
    "#print(a)   # виводимо всі ймовірності\n",
    "print(np.argmax(a)) # сума яку вгадуємо \n",
    "f.cache_clear() # для очистки (для кожного нового таску свій препроцесинг)"
   ]
  },
  {
   "cell_type": "markdown",
   "metadata": {},
   "source": [
    "## Перевірка подільності на `3`"
   ]
  },
  {
   "cell_type": "code",
   "execution_count": 18,
   "metadata": {},
   "outputs": [
    {
     "name": "stdout",
     "output_type": "stream",
     "text": [
      "False\n"
     ]
    }
   ],
   "source": [
    "print(checking(a,3))"
   ]
  },
  {
   "cell_type": "code",
   "execution_count": null,
   "metadata": {},
   "outputs": [],
   "source": []
  }
 ],
 "metadata": {
  "colab": {
   "collapsed_sections": [],
   "name": "testing.ipynb",
   "provenance": []
  },
  "kernelspec": {
   "display_name": "Python 3",
   "language": "python",
   "name": "python3"
  },
  "language_info": {
   "codemirror_mode": {
    "name": "ipython",
    "version": 3
   },
   "file_extension": ".py",
   "mimetype": "text/x-python",
   "name": "python",
   "nbconvert_exporter": "python",
   "pygments_lexer": "ipython3",
   "version": "3.7.1"
  }
 },
 "nbformat": 4,
 "nbformat_minor": 1
}
