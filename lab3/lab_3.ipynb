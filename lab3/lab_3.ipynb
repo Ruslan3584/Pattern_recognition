{
 "cells": [
  {
   "cell_type": "code",
   "execution_count": 1,
   "metadata": {
    "colab": {},
    "colab_type": "code",
    "id": "iKL4ba2utL_x"
   },
   "outputs": [],
   "source": [
    "import numpy as np\n",
    "import functools\n",
    "import time\n",
    "from tests import * # імпортуємо тести для функцій"
   ]
  },
  {
   "cell_type": "markdown",
   "metadata": {
    "colab_type": "text",
    "id": "GYnrJ2HhtL_2"
   },
   "source": [
    "## Еталони"
   ]
  },
  {
   "cell_type": "code",
   "execution_count": 2,
   "metadata": {
    "colab": {},
    "colab_type": "code",
    "id": "mn1nw_9ttL_3"
   },
   "outputs": [],
   "source": [
    "zero = np.array([[1, 1, 1],\n",
    "                 [1, 0, 1],\n",
    "                 [1, 0, 1],\n",
    "                 [1, 0, 1],\n",
    "                 [1, 1, 1]])\n",
    "\n",
    "one  = np.array([[0, 1, 0],\n",
    "                 [0, 1, 0],\n",
    "                 [0, 1, 0],\n",
    "                 [0, 1, 0],\n",
    "                 [0, 1, 0]])\n",
    "\n",
    "two  = np.array([[1, 1, 1],\n",
    "                 [0, 0, 1],\n",
    "                 [1, 1, 1],\n",
    "                 [1, 0, 0],\n",
    "                 [1, 1, 1]])\n",
    "\n",
    "three =np.array([[1, 1, 1],\n",
    "                 [0, 0, 1],\n",
    "                 [1, 1, 1],\n",
    "                 [0, 0, 1],\n",
    "                 [1, 1, 1]])\n",
    "\n",
    "four = np.array([[1, 0, 1],\n",
    "                 [1, 0, 1],\n",
    "                 [1, 1, 1],\n",
    "                 [0, 0, 1],\n",
    "                 [0, 0, 1]])\n",
    "\n",
    "five = np.array([[1, 1, 1],\n",
    "                 [1, 0, 0],\n",
    "                 [1, 1, 1],\n",
    "                 [0, 0, 1],\n",
    "                 [1, 1, 1]])\n",
    "\n",
    "six =  np.array([[1, 1, 1],\n",
    "                 [1, 0, 0],\n",
    "                 [1, 1, 1],\n",
    "                 [1, 0, 1],\n",
    "                 [1, 1, 1]])\n",
    "\n",
    "seven =np.array([[1, 1, 1],\n",
    "                 [0, 0, 1],\n",
    "                 [0, 1, 0],\n",
    "                 [1, 0, 0],\n",
    "                 [1, 0, 0]])\n",
    "\n",
    "eight =np.array([[1, 1, 1],\n",
    "                 [1, 0, 1],\n",
    "                 [1, 1, 1],\n",
    "                 [1, 0, 1],\n",
    "                 [1, 1, 1]])\n",
    "\n",
    "\n",
    "nine = np.array([[1, 1, 1],\n",
    "                 [1, 0, 1],\n",
    "                 [1, 1, 1],\n",
    "                 [0, 0, 1],\n",
    "                 [0, 0, 1]])"
   ]
  },
  {
   "cell_type": "code",
   "execution_count": 3,
   "metadata": {
    "colab": {},
    "colab_type": "code",
    "id": "qq1FhfLitL_5"
   },
   "outputs": [],
   "source": [
    "Y1 = [zero, one, two, three, four, five, six, seven, eight, nine] # еталонні зображення"
   ]
  },
  {
   "cell_type": "code",
   "execution_count": 4,
   "metadata": {
    "colab": {},
    "colab_type": "code",
    "id": "Ix5KTsswtL_-"
   },
   "outputs": [],
   "source": [
    "Y = []\n",
    "sc1 = 3    # наскільки збільшуємо висоту\n",
    "sc2 = 3   # ... ширину\n",
    "for i in range(len(Y1)):\n",
    "    Y.append(upscale(Y1[i], sc1,sc2))"
   ]
  },
  {
   "cell_type": "code",
   "execution_count": 5,
   "metadata": {},
   "outputs": [
    {
     "data": {
      "text/plain": [
       "(15, 9)"
      ]
     },
     "execution_count": 5,
     "metadata": {},
     "output_type": "execute_result"
    }
   ],
   "source": [
    "Y[0].shape"
   ]
  },
  {
   "cell_type": "markdown",
   "metadata": {
    "colab_type": "text",
    "id": "_T4nvSNitMAE"
   },
   "source": [
    "## Генеруємо гістограми"
   ]
  },
  {
   "cell_type": "code",
   "execution_count": 6,
   "metadata": {
    "colab": {
     "base_uri": "https://localhost:8080/",
     "height": 51
    },
    "colab_type": "code",
    "id": "K1fWYCjktMAF",
    "outputId": "c6f4220f-2c66-4864-cafa-69ef78494c14"
   },
   "outputs": [
    {
     "data": {
      "text/plain": [
       "array([0.13452915, 0.06278027, 0.07772795, 0.0941704 , 0.13602392,\n",
       "       0.13303438, 0.09715994, 0.10164425, 0.10612855, 0.0568012 ])"
      ]
     },
     "execution_count": 6,
     "metadata": {},
     "output_type": "execute_result"
    }
   ],
   "source": [
    "np.random.seed(np.random.randint(0,100))\n",
    "histogram = generate_histogram()\n",
    "histogram"
   ]
  },
  {
   "cell_type": "markdown",
   "metadata": {
    "colab_type": "text",
    "id": "7c_n9qqRtMAK"
   },
   "source": [
    "## Генеруємо вхідне зображення\n",
    "### повертаємо зображення  і суму цифр"
   ]
  },
  {
   "cell_type": "code",
   "execution_count": 7,
   "metadata": {
    "colab": {},
    "colab_type": "code",
    "id": "9BioXkBDtMAL"
   },
   "outputs": [],
   "source": [
    "def task(Y, t, p):# генеруємо таск довжиною t з ймовірністю p\n",
    "    r = np.random.choice(10, t, p=histogram)\n",
    "    x_etalone = Y[r[0]]\n",
    "    for i in range(1,t):\n",
    "        x_etalone = np.concatenate((x_etalone,Y[r[i]]),axis=1)\n",
    "    \n",
    "    n = Y[0].shape[0]\n",
    "    m = Y[0].shape[1]\n",
    "    \n",
    "    #print(sum(r))\n",
    "    ksi = np.random.binomial(size=n*m*t, n=1, p=p).reshape((n,m*t))\n",
    "    f = (x_etalone^ksi, sum(r)) \n",
    "    return f # повертаємо таск і суму чисел (ті що випали)"
   ]
  },
  {
   "cell_type": "markdown",
   "metadata": {
    "colab_type": "text",
    "id": "EaPZcjGWtMAT"
   },
   "source": [
    "## Рахуємо ймовірності"
   ]
  },
  {
   "cell_type": "code",
   "execution_count": 8,
   "metadata": {},
   "outputs": [],
   "source": [
    "def recog2(X_arr,p):\n",
    "    probab= np.empty(10)                   # остаточні ймовірності\n",
    "    d = (Y^X_arr)\n",
    "    for ks in range(10):\n",
    "        stepin = ( d- (Y[ks]^X_arr))\n",
    "        if np.sum(stepin[ks])==0:\n",
    "            h = np.zeros(10)\n",
    "            h[ks] = 1\n",
    "            return h\n",
    "        stepin = [np.sum(i) for i in stepin]\n",
    "        sum_ki = histogram*(p/(1-p))**np.array(stepin)\n",
    "        probab[ks] = histogram[ks]/np.sum(sum_ki)                            # додаємо ймовірність\n",
    "    return probab    "
   ]
  },
  {
   "cell_type": "markdown",
   "metadata": {
    "colab_type": "text",
    "id": "e99mn6idtMAZ"
   },
   "source": [
    "## Рекурсивно рахуємо ймов-ті для під-зображень"
   ]
  },
  {
   "cell_type": "code",
   "execution_count": 9,
   "metadata": {
    "colab": {
     "base_uri": "https://localhost:8080/",
     "height": 85
    },
    "colab_type": "code",
    "id": "6Pa6SbE7w0tO",
    "outputId": "2be6eddf-3d5d-4d3f-f5c1-160633db1713"
   },
   "outputs": [],
   "source": [
    "t = 21                 # кількість цифр\n",
    "p = 0.1                  # рівень шуму \n",
    "v = task(Y, t,p)      # генеруємо таск\n",
    "X = np.hsplit(v[0], t)      # розбиваємо таск по цифрах   "
   ]
  },
  {
   "cell_type": "code",
   "execution_count": 10,
   "metadata": {},
   "outputs": [],
   "source": [
    "@functools.lru_cache(None)        # та ж функція що була раніше але з новими підрахунками\n",
    "def f(t):\n",
    "    if t==1:\n",
    "        return recog2(X[t-1],p)    # умова виходу з рекурсії\n",
    "    else:\n",
    "        res = []                  # масив в якому будуть остаточні ймовірності\n",
    "        z = recog2(X[t-1],p)\n",
    "        q = f(t-1)\n",
    "        for d in range(9*t+1):\n",
    "            k2 = []\n",
    "            \n",
    "            for k in range(10):\n",
    "                \n",
    "                if k<=d and k>=d-9*(t-1):       \n",
    "                    k2.append(z[k]*q[d-k]) # рахуємо рекурсивно   НЕЕЕЕ ТРОГАТЬ АААААААААААААААА \n",
    "            res.append(np.sum(k2))\n",
    "    return res"
   ]
  },
  {
   "cell_type": "markdown",
   "metadata": {},
   "source": [
    "## `Succes rate`"
   ]
  },
  {
   "cell_type": "code",
   "execution_count": 11,
   "metadata": {},
   "outputs": [],
   "source": [
    "c=0\n",
    "iterations = 10\n",
    "for i in range(iterations):\n",
    "    v = task(Y, t,p)      # генеруємо таск\n",
    "    X = np.hsplit(v[0], t)      # розбиваємо таск по цифрах\n",
    "    a = f(t)\n",
    "    f.cache_clear()\n",
    "    if (checking(a) == True and v[1]%3 == 0) or (checking(a) == False and v[1]%3 != 0):\n",
    "        c += 1"
   ]
  },
  {
   "cell_type": "code",
   "execution_count": 12,
   "metadata": {},
   "outputs": [
    {
     "name": "stdout",
     "output_type": "stream",
     "text": [
      "10/10\n"
     ]
    }
   ],
   "source": [
    "print(str(c)+'/' + str(iterations ))"
   ]
  },
  {
   "cell_type": "markdown",
   "metadata": {},
   "source": [
    "## `Для прикладу: 1000 чисел по 21 цифрі` "
   ]
  },
  {
   "cell_type": "code",
   "execution_count": 13,
   "metadata": {},
   "outputs": [],
   "source": [
    "f.cache_clear()\n",
    "\n",
    "t = 21                 # кількість цифр\n",
    "p = 0.1                  # рівень шуму \n",
    "Y = []\n",
    "sc1 = 1    # наскільки збільшуємо висоту\n",
    "sc2 = 1   # ... ширину\n",
    "for i in range(len(Y1)):\n",
    "    Y.append(upscale(Y1[i], sc1,sc2))"
   ]
  },
  {
   "cell_type": "code",
   "execution_count": 14,
   "metadata": {},
   "outputs": [
    {
     "name": "stdout",
     "output_type": "stream",
     "text": [
      "40.99597930908203\n"
     ]
    }
   ],
   "source": [
    "time1 = time.time()\n",
    "for i in range(1000):\n",
    "    v = task(Y, t,p)      # генеруємо таск\n",
    "    X = np.hsplit(v[0], t)      # розбиваємо таск по цифрах\n",
    "    a = f(t)\n",
    "    f.cache_clear()\n",
    "print(time.time()-time1)"
   ]
  }
 ],
 "metadata": {
  "colab": {
   "collapsed_sections": [],
   "name": "testing.ipynb",
   "provenance": []
  },
  "kernelspec": {
   "display_name": "Python 3",
   "language": "python",
   "name": "python3"
  },
  "language_info": {
   "codemirror_mode": {
    "name": "ipython",
    "version": 3
   },
   "file_extension": ".py",
   "mimetype": "text/x-python",
   "name": "python",
   "nbconvert_exporter": "python",
   "pygments_lexer": "ipython3",
   "version": "3.7.4"
  }
 },
 "nbformat": 4,
 "nbformat_minor": 1
}
