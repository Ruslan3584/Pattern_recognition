{
 "cells": [
  {
   "cell_type": "code",
   "execution_count": 25,
   "metadata": {},
   "outputs": [],
   "source": [
    "import numpy as np\n",
    "import functools"
   ]
  },
  {
   "cell_type": "markdown",
   "metadata": {},
   "source": [
    "## Еталони"
   ]
  },
  {
   "cell_type": "code",
   "execution_count": 26,
   "metadata": {},
   "outputs": [],
   "source": [
    "zero = np.array([[1, 1, 1],\n",
    "                 [1, 0, 1],\n",
    "                 [1, 0, 1],\n",
    "                 [1, 0, 1],\n",
    "                 [1, 1, 1]])\n",
    "\n",
    "one  = np.array([[0, 1, 0],\n",
    "                 [0, 1, 0],\n",
    "                 [0, 1, 0],\n",
    "                 [0, 1, 0],\n",
    "                 [0, 1, 0]])\n",
    "\n",
    "two  = np.array([[1, 1, 1],\n",
    "                 [0, 0, 1],\n",
    "                 [1, 1, 1],\n",
    "                 [1, 0, 0],\n",
    "                 [1, 1, 1]])\n",
    "\n",
    "three =np.array([[1, 1, 1],\n",
    "                 [0, 0, 1],\n",
    "                 [1, 1, 1],\n",
    "                 [0, 0, 1],\n",
    "                 [1, 1, 1]])\n",
    "\n",
    "four = np.array([[1, 0, 1],\n",
    "                 [1, 0, 1],\n",
    "                 [1, 1, 1],\n",
    "                 [0, 0, 1],\n",
    "                 [0, 0, 1]])\n",
    "\n",
    "five = np.array([[1, 1, 1],\n",
    "                 [1, 0, 0],\n",
    "                 [1, 1, 1],\n",
    "                 [0, 0, 1],\n",
    "                 [1, 1, 1]])\n",
    "\n",
    "six =  np.array([[1, 1, 1],\n",
    "                 [1, 0, 0],\n",
    "                 [1, 1, 1],\n",
    "                 [1, 0, 1],\n",
    "                 [1, 1, 1]])\n",
    "\n",
    "seven =np.array([[1, 1, 1],\n",
    "                 [0, 0, 1],\n",
    "                 [0, 1, 0],\n",
    "                 [1, 0, 0],\n",
    "                 [1, 0, 0]])\n",
    "\n",
    "eight =np.array([[1, 1, 1],\n",
    "                 [1, 0, 1],\n",
    "                 [1, 1, 1],\n",
    "                 [1, 0, 1],\n",
    "                 [1, 1, 1]])\n",
    "\n",
    "\n",
    "nine = np.array([[1, 1, 1],\n",
    "                 [1, 0, 1],\n",
    "                 [1, 1, 1],\n",
    "                 [0, 0, 1],\n",
    "                 [0, 0, 1]])"
   ]
  },
  {
   "cell_type": "code",
   "execution_count": 27,
   "metadata": {},
   "outputs": [],
   "source": [
    "Y = [zero, one, two, three, four, five, six, seven, eight, nine] # еталонні зображення"
   ]
  },
  {
   "cell_type": "markdown",
   "metadata": {},
   "source": [
    "## Генеруємо гістограми"
   ]
  },
  {
   "cell_type": "code",
   "execution_count": 29,
   "metadata": {},
   "outputs": [],
   "source": [
    "histogram = np.random.randint(0,100,10)   # change value of seed if you want to get new histogram\n",
    "histogram = histogram/np.sum(histogram)  # normilizing of histogram"
   ]
  },
  {
   "cell_type": "markdown",
   "metadata": {},
   "source": [
    "## Генеруємо вхідне зображення\n",
    "### повертаємо зобр. і суму цифр"
   ]
  },
  {
   "cell_type": "code",
   "execution_count": 87,
   "metadata": {},
   "outputs": [],
   "source": [
    "def task(Y, t, p):\n",
    "    r = np.random.choice(10,t,p=histogram)\n",
    "    x_etalone = Y[r[0]]\n",
    "    for i in range(1,t):\n",
    "        x_etalone = np.concatenate((x_etalone,Y[r[i]]),axis=1)\n",
    "    n = Y[0].shape[0]\n",
    "    m = Y[0].shape[1]\n",
    "    ksi = np.random.binomial(size=n*m*t, n=1, p=p).reshape((n,m*t))\n",
    "    f = (x_etalone^ksi, sum(r)) \n",
    "    return f"
   ]
  },
  {
   "cell_type": "markdown",
   "metadata": {},
   "source": [
    "## Рахуємо ймовірності"
   ]
  },
  {
   "cell_type": "code",
   "execution_count": 31,
   "metadata": {},
   "outputs": [],
   "source": [
    "def recognition(task,noise_level, numbers):        # функція з першої лаби для апостеріорних ймовірностей\n",
    "    result = []\n",
    "    for i in numbers:\n",
    "        d = []\n",
    "        noise = i^task          \n",
    "        \n",
    "        noise = noise.reshape(1, noise.shape[0]*noise.shape[1])\n",
    "        \n",
    "        for j in range(0, noise.shape[0]*noise.shape[1]):           \n",
    "            if noise[0][j] == 0:\n",
    "                d.append(1-noise_level)\n",
    "            else:\n",
    "                d.append(noise_level)\n",
    "\n",
    "        result.append(np.prod(d))              \n",
    "    return result"
   ]
  },
  {
   "cell_type": "markdown",
   "metadata": {},
   "source": [
    "## Рекурсивно рахуємо ймов-ті для під-зображень"
   ]
  },
  {
   "cell_type": "code",
   "execution_count": 32,
   "metadata": {},
   "outputs": [],
   "source": [
    "@functools.lru_cache(None)\n",
    "def f(t):\n",
    "    if t==1:\n",
    "        return recognition(im[t-1],noise,Y)*histogram\n",
    "    else:\n",
    "        res = []\n",
    "    for d in range(0,9*t+1):\n",
    "        k2 = []\n",
    "        for k in range (0,10):\n",
    "        \n",
    "            if k>=d-9*(t-1) and k<=d:\n",
    "                x2 = im[t-1]\n",
    "                p22 = recognition(x2,noise,Y)[k]*histogram[k]\n",
    "                k2.append( f(t-1)[d-k]*p22)\n",
    "        res.append(np.sum(k2))\n",
    "    return res"
   ]
  },
  {
   "cell_type": "markdown",
   "metadata": {},
   "source": [
    "## Запускаємо цикл для перевірки"
   ]
  },
  {
   "cell_type": "code",
   "execution_count": 96,
   "metadata": {
    "scrolled": true
   },
   "outputs": [
    {
     "name": "stdout",
     "output_type": "stream",
     "text": [
      "guessed_sum 62 real_sum 62\n",
      "guessed_sum 53 real_sum 53\n",
      "guessed_sum 58 real_sum 58\n",
      "guessed_sum 60 real_sum 60\n",
      "guessed_sum 76 real_sum 76\n",
      "guessed_sum 41 real_sum 41\n",
      "guessed_sum 72 real_sum 72\n",
      "guessed_sum 53 real_sum 53\n",
      "guessed_sum 60 real_sum 60\n",
      "guessed_sum 64 real_sum 64\n"
     ]
    }
   ],
   "source": [
    "noise = 0\n",
    "t = 15\n",
    "a = []\n",
    "b = []\n",
    "for i in range(0,10):\n",
    "    task1 = task(Y,t,noise)\n",
    "    x = task1[0] # вхідне зображення\n",
    "    im = np.hsplit(x, t)    # вхідне число(зображення) розбите на цифри \n",
    "    a.append(np.argmax(f(t))) # вгадана сума\n",
    "    b.append(task1[1]) # реальна сума\n",
    "    print(\"guessed_sum\",a[i],'real_sum',b[i])\n",
    "    f.cache_clear()  # очистка кешу"
   ]
  },
  {
   "cell_type": "markdown",
   "metadata": {},
   "source": [
    "## Точність (кількість вгаданих з усіх)"
   ]
  },
  {
   "cell_type": "code",
   "execution_count": 97,
   "metadata": {},
   "outputs": [
    {
     "name": "stdout",
     "output_type": "stream",
     "text": [
      "10 / 10\n"
     ]
    }
   ],
   "source": [
    "c = 0\n",
    "for i in range(len(a)):\n",
    "    if a[i] == b[i]:\n",
    "        c+=1\n",
    "print(c,'/',len(a))"
   ]
  }
 ],
 "metadata": {
  "kernelspec": {
   "display_name": "Python 3",
   "language": "python",
   "name": "python3"
  },
  "language_info": {
   "codemirror_mode": {
    "name": "ipython",
    "version": 3
   },
   "file_extension": ".py",
   "mimetype": "text/x-python",
   "name": "python",
   "nbconvert_exporter": "python",
   "pygments_lexer": "ipython3",
   "version": "3.7.1"
  }
 },
 "nbformat": 4,
 "nbformat_minor": 2
}
