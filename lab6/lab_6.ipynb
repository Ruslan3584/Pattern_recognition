{
 "cells": [
  {
   "cell_type": "code",
   "execution_count": 57,
   "metadata": {},
   "outputs": [],
   "source": [
    "import numpy as np\n",
    "import matplotlib.pyplot as plt"
   ]
  },
  {
   "cell_type": "code",
   "execution_count": 58,
   "metadata": {},
   "outputs": [
    {
     "data": {
      "text/plain": [
       "(-16, 3, 6)"
      ]
     },
     "execution_count": 58,
     "metadata": {},
     "output_type": "execute_result"
    }
   ],
   "source": [
    "a = np.random.randint(-20,20)\n",
    "b = np.random.randint(-20,20)\n",
    "r = np.random.randint(5,10)\n",
    "a,b,r\n"
   ]
  },
  {
   "cell_type": "code",
   "execution_count": 59,
   "metadata": {},
   "outputs": [],
   "source": [
    "n = 50\n",
    "data = np.array([[np.random.randint(-20,20),np.random.randint(-20,20)] for i in range(n)])\n",
    "data= np.pad(data, (2,0), 'constant', constant_values=1)\n",
    "data = data[2:]\n",
    "data[:,1] = np.array([ data[i][2]**2 + data[i][3]**2 for i in range(len(data))])\n",
    "test = data"
   ]
  },
  {
   "cell_type": "code",
   "execution_count": 60,
   "metadata": {},
   "outputs": [],
   "source": [
    "in_round = []\n",
    "out_round = []\n",
    "epsilon = 3\n",
    "for i in range(n):\n",
    "    if (data[i][2] - a)**2 + (data[i][3] - b)**2 < r**2 :\n",
    "        in_round.append(data[i])\n",
    "    elif (data[i][2] - a)**2 + (data[i][3] - b)**2 > r**2 :\n",
    "        out_round.append(data[i])\n",
    "in_round = np.array(in_round)\n",
    "out_round = np.array(out_round)"
   ]
  },
  {
   "cell_type": "code",
   "execution_count": 61,
   "metadata": {},
   "outputs": [
    {
     "data": {
      "text/plain": [
       "array([[  -1, -178,   13,   -3],\n",
       "       [  -1, -225,   15,    0],\n",
       "       [  -1, -400,   20,    0],\n",
       "       [  -1, -425,   20,   -5]])"
      ]
     },
     "execution_count": 61,
     "metadata": {},
     "output_type": "execute_result"
    }
   ],
   "source": [
    "in_round = in_round*(-1)\n",
    "in_round"
   ]
  },
  {
   "cell_type": "code",
   "execution_count": 62,
   "metadata": {},
   "outputs": [],
   "source": [
    "#plt.plot(y_2,label='linear')\n",
    "#from matplotlib.pyplot import figure\n",
    "#figure(num=None, figsize=(8, 8), dpi=80, facecolor='w', edgecolor='k')\n",
    "#plt.scatter(in_round[:,0],in_round[:,1]  )\n",
    "#plt.scatter(out_round[:,0],out_round[:,1]  )\n",
    "#plt.show()"
   ]
  },
  {
   "cell_type": "code",
   "execution_count": 63,
   "metadata": {},
   "outputs": [
    {
     "data": {
      "text/plain": [
       "array([0., 0., 0., 0.])"
      ]
     },
     "execution_count": 63,
     "metadata": {},
     "output_type": "execute_result"
    }
   ],
   "source": [
    "alpha = np.zeros(4)\n",
    "alpha"
   ]
  },
  {
   "cell_type": "code",
   "execution_count": 64,
   "metadata": {},
   "outputs": [],
   "source": [
    "s = np.vstack((in_round,out_round))"
   ]
  },
  {
   "cell_type": "code",
   "execution_count": 65,
   "metadata": {},
   "outputs": [],
   "source": [
    "while ((s.dot(alpha)) <= 0).any():\n",
    "    for i in range(n):\n",
    "        if s[i].dot(alpha) <= 0:\n",
    "            alpha += s[i]"
   ]
  },
  {
   "cell_type": "code",
   "execution_count": 66,
   "metadata": {},
   "outputs": [
    {
     "data": {
      "text/plain": [
       "array([120.08279221,   1.        ,  26.01136364,  -7.20616883])"
      ]
     },
     "execution_count": 66,
     "metadata": {},
     "output_type": "execute_result"
    }
   ],
   "source": [
    "alpha = alpha/alpha[1]\n",
    "alpha"
   ]
  },
  {
   "cell_type": "code",
   "execution_count": 73,
   "metadata": {},
   "outputs": [],
   "source": [
    "a_t = alpha[2]*(-0.5)\n",
    "b_t = alpha[3]*(-0.5)\n",
    "r_t = np.sqrt((a_t**2 + b_t**2 - alpha[0]))"
   ]
  },
  {
   "cell_type": "code",
   "execution_count": 74,
   "metadata": {},
   "outputs": [
    {
     "name": "stdout",
     "output_type": "stream",
     "text": [
      "-13.005681818181818 3.6030844155844157 7.8770035326779055\n",
      "-16 3 6\n"
     ]
    }
   ],
   "source": [
    "print(a_t,b_t,r_t)\n",
    "print(a,b,r)"
   ]
  }
 ],
 "metadata": {
  "kernelspec": {
   "display_name": "Python 3",
   "language": "python",
   "name": "python3"
  },
  "language_info": {
   "codemirror_mode": {
    "name": "ipython",
    "version": 3
   },
   "file_extension": ".py",
   "mimetype": "text/x-python",
   "name": "python",
   "nbconvert_exporter": "python",
   "pygments_lexer": "ipython3",
   "version": "3.7.1"
  }
 },
 "nbformat": 4,
 "nbformat_minor": 2
}
