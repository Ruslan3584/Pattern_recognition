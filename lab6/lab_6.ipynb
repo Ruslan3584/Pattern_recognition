{
 "cells": [
  {
   "cell_type": "code",
   "execution_count": 1,
   "metadata": {},
   "outputs": [],
   "source": [
    "import numpy as np\n",
    "import matplotlib.pyplot as plt"
   ]
  },
  {
   "cell_type": "code",
   "execution_count": 2,
   "metadata": {},
   "outputs": [],
   "source": [
    "a = np.random.randint(-20,20)\n",
    "b = np.random.randint(-20,20)\n",
    "r = np.random.randint(5,10)\n",
    "a,b,r\n",
    "a=b=r=1"
   ]
  },
  {
   "cell_type": "code",
   "execution_count": 3,
   "metadata": {},
   "outputs": [],
   "source": [
    "#n = 50\n",
    "n = 2\n",
    "\n",
    "#data = np.array([[np.random.randint(-20,20),np.random.randint(-20,20)] for i in range(n)])\n",
    "data = np.array([[1, 1], [1, -1]])\n",
    "data= np.pad(data, (2,0), 'constant', constant_values=1)\n",
    "data = data[2:]\n",
    "data[:,1] = np.array([ data[i][2]**2 + data[i][3]**2 for i in range(len(data))])\n",
    "test = data"
   ]
  },
  {
   "cell_type": "code",
   "execution_count": null,
   "metadata": {},
   "outputs": [],
   "source": []
  },
  {
   "cell_type": "code",
   "execution_count": 4,
   "metadata": {},
   "outputs": [
    {
     "name": "stdout",
     "output_type": "stream",
     "text": [
      "[1 2 1 1]\n"
     ]
    }
   ],
   "source": [
    "in_round = []\n",
    "out_round = []\n",
    "epsilon = 1\n",
    "for i in range(n):\n",
    "    if (data[i][2] - a)**2 + (data[i][3] - b)**2 < r**2 :\n",
    "        in_round.append(data[i])\n",
    "        print(data[i])\n",
    "    elif (data[i][2] - a)**2 + (data[i][3] - b)**2 > r**2  :\n",
    "        out_round.append(data[i])\n",
    "in_round = np.array(in_round)\n",
    "out_round = np.array(out_round)"
   ]
  },
  {
   "cell_type": "code",
   "execution_count": 5,
   "metadata": {},
   "outputs": [
    {
     "data": {
      "text/plain": [
       "array([[-1, -2, -1, -1],\n",
       "       [ 0,  1,  0,  0]])"
      ]
     },
     "execution_count": 5,
     "metadata": {},
     "output_type": "execute_result"
    }
   ],
   "source": [
    "in_round = in_round*(-1)\n",
    "in_round = np.vstack((in_round,np.array([0,1,0,0])))\n",
    "in_round"
   ]
  },
  {
   "cell_type": "code",
   "execution_count": 6,
   "metadata": {},
   "outputs": [],
   "source": [
    "#plt.plot(y_2,label='linear')\n",
    "#from matplotlib.pyplot import figure\n",
    "#figure(num=None, figsize=(8, 8), dpi=80, facecolor='w', edgecolor='k')\n",
    "#plt.scatter(in_round[:,0],in_round[:,1]  )\n",
    "#plt.scatter(out_round[:,0],out_round[:,1]  )\n",
    "#plt.show()"
   ]
  },
  {
   "cell_type": "code",
   "execution_count": 7,
   "metadata": {},
   "outputs": [
    {
     "data": {
      "text/plain": [
       "array([0., 0., 0., 0.])"
      ]
     },
     "execution_count": 7,
     "metadata": {},
     "output_type": "execute_result"
    }
   ],
   "source": [
    "alpha = np.zeros(4)\n",
    "alpha"
   ]
  },
  {
   "cell_type": "code",
   "execution_count": 8,
   "metadata": {},
   "outputs": [
    {
     "data": {
      "text/plain": [
       "array([[-1, -2, -1, -1],\n",
       "       [ 0,  1,  0,  0],\n",
       "       [ 1,  2,  1, -1]])"
      ]
     },
     "execution_count": 8,
     "metadata": {},
     "output_type": "execute_result"
    }
   ],
   "source": [
    "s = np.vstack((in_round,out_round))\n",
    "s"
   ]
  },
  {
   "cell_type": "code",
   "execution_count": null,
   "metadata": {},
   "outputs": [],
   "source": []
  },
  {
   "cell_type": "code",
   "execution_count": 9,
   "metadata": {},
   "outputs": [
    {
     "name": "stdout",
     "output_type": "stream",
     "text": [
      "[-1 -2 -1 -1] incorrect for [0. 0. 0. 0.] because 0.0\n",
      "after correction [-1. -2. -1. -1.]\n",
      "[0 1 0 0] incorrect for [-1. -2. -1. -1.] because -2.0\n",
      "after correction [-1. -1. -1. -1.]\n",
      "[0 1 0 0] incorrect for [-1. -1. -1. -1.] because -1.0\n",
      "after correction [-1.  0. -1. -1.]\n",
      "[0 1 0 0] incorrect for [-1.  0. -1. -1.] because 0.0\n",
      "after correction [-1.  1. -1. -1.]\n"
     ]
    }
   ],
   "source": [
    "while ((s.dot(alpha)) <= 0).any():\n",
    "    for i in range(n):\n",
    "        if s[i].dot(alpha) <= 0:\n",
    "            print(s[i], 'incorrect for', alpha, 'because', s[i].dot(alpha))\n",
    "            alpha += s[i]\n",
    "            print('after correction', alpha)"
   ]
  },
  {
   "cell_type": "code",
   "execution_count": 10,
   "metadata": {},
   "outputs": [],
   "source": [
    "while ((s.dot(alpha)) <= 0).any():\n",
    "    for i in range(len(s)):\n",
    "        if s[i].dot(alpha) <= 0:\n",
    "            alpha += s[i]"
   ]
  },
  {
   "cell_type": "code",
   "execution_count": 11,
   "metadata": {},
   "outputs": [
    {
     "data": {
      "text/plain": [
       "array([-1.,  1., -1., -1.])"
      ]
     },
     "execution_count": 11,
     "metadata": {},
     "output_type": "execute_result"
    }
   ],
   "source": [
    "alpha = alpha/alpha[1]\n",
    "alpha"
   ]
  },
  {
   "cell_type": "code",
   "execution_count": 12,
   "metadata": {},
   "outputs": [],
   "source": [
    "a_t = alpha[2]*(-0.5)\n",
    "b_t = alpha[3]*(-0.5)\n",
    "r_t = np.sqrt((a_t**2 + b_t**2 - alpha[0]))"
   ]
  },
  {
   "cell_type": "code",
   "execution_count": 13,
   "metadata": {},
   "outputs": [
    {
     "name": "stdout",
     "output_type": "stream",
     "text": [
      "0.5 0.5 1.224744871391589\n",
      "1 1 1\n"
     ]
    }
   ],
   "source": [
    "print(a_t,b_t,r_t)\n",
    "print(a,b,r)"
   ]
  },
  {
   "cell_type": "code",
   "execution_count": null,
   "metadata": {},
   "outputs": [],
   "source": [
    "def parameters():\n",
    "    a = np.random.randint(-20,20)\n",
    "    b = np.random.randint(-20,20)\n",
    "    r = np.random.randint(5,10)\n",
    "    return a,b,r"
   ]
  },
  {
   "cell_type": "code",
   "execution_count": null,
   "metadata": {},
   "outputs": [],
   "source": []
  }
 ],
 "metadata": {
  "kernelspec": {
   "display_name": "Python 3",
   "language": "python",
   "name": "python3"
  },
  "language_info": {
   "codemirror_mode": {
    "name": "ipython",
    "version": 3
   },
   "file_extension": ".py",
   "mimetype": "text/x-python",
   "name": "python",
   "nbconvert_exporter": "python",
   "pygments_lexer": "ipython3",
   "version": "3.7.1"
  }
 },
 "nbformat": 4,
 "nbformat_minor": 2
}
